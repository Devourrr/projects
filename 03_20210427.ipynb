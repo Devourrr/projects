{
 "cells": [
  {
   "cell_type": "markdown",
   "metadata": {},
   "source": [
    "#  빅데이터 수집시스템"
   ]
  },
  {
   "cell_type": "markdown",
   "metadata": {},
   "source": [
    "#  수집정보\n",
    "- 순위\n",
    "- 순위 변동\n",
    "- 운동칼로리\n",
    "- 강도/세트\n",
    "- 분/초/횟수\n",
    "- 칼로리"
   ]
  },
  {
   "cell_type": "code",
   "execution_count": 21,
   "metadata": {},
   "outputs": [
    {
     "name": "stdout",
     "output_type": "stream",
     "text": [
      "<금주의 운동 칼로리 검색 순위 TOP>\n"
     ]
    },
    {
     "ename": "NameError",
     "evalue": "name 'html' is not defined",
     "output_type": "error",
     "traceback": [
      "\u001b[1;31m---------------------------------------------------------------------------\u001b[0m",
      "\u001b[1;31mNameError\u001b[0m                                 Traceback (most recent call last)",
      "\u001b[1;32m<ipython-input-21-28575d132368>\u001b[0m in \u001b[0;36m<module>\u001b[1;34m\u001b[0m\n\u001b[0;32m     11\u001b[0m \u001b[0mprint\u001b[0m\u001b[1;33m(\u001b[0m\u001b[1;34m'<금주의 운동 칼로리 검색 순위 TOP>'\u001b[0m\u001b[1;33m)\u001b[0m\u001b[1;33m\u001b[0m\u001b[1;33m\u001b[0m\u001b[0m\n\u001b[0;32m     12\u001b[0m \u001b[1;33m\u001b[0m\u001b[0m\n\u001b[1;32m---> 13\u001b[1;33m \u001b[0mtbody\u001b[0m \u001b[1;33m=\u001b[0m  \u001b[0mhtml\u001b[0m\u001b[1;33m.\u001b[0m\u001b[0mselect\u001b[0m\u001b[1;33m(\u001b[0m\u001b[1;34m'#container > div.contents.calorieDc > table > tbody'\u001b[0m\u001b[1;33m)\u001b[0m\u001b[1;33m\u001b[0m\u001b[1;33m\u001b[0m\u001b[0m\n\u001b[0m\u001b[0;32m     14\u001b[0m \u001b[0mtrs\u001b[0m \u001b[1;33m=\u001b[0m \u001b[0mtbody\u001b[0m\u001b[1;33m.\u001b[0m\u001b[0mselect\u001b[0m\u001b[1;33m(\u001b[0m\u001b[1;34m'tr'\u001b[0m\u001b[1;33m)\u001b[0m\u001b[1;33m\u001b[0m\u001b[1;33m\u001b[0m\u001b[0m\n\u001b[0;32m     15\u001b[0m \u001b[1;33m\u001b[0m\u001b[0m\n",
      "\u001b[1;31mNameError\u001b[0m: name 'html' is not defined"
     ]
    }
   ],
   "source": [
    "import requests\n",
    "from bs4 import BeautifulSoup\n",
    "\n",
    "url = 'https://www.dietshin.com/calorie/sports_main.asp'\n",
    "res = requests.get('https://www.dietshin.com/calorie/sports_main.asp',\n",
    "    headers = {'User-Agent':'Mozilla/5.0 (Windows NT 10.0; Win64; x64) AppleWebKit/537.36 (KHTML, like Gecko) Chrome/90.0.4430.93 Safari/537.36'})\n",
    "# print(res)\n",
    "\n",
    "bs = BeautifulSoup(res.text, 'html.parser')\n",
    "\n",
    "print('<금주의 운동 칼로리 검색 순위 TOP>')\n",
    "\n",
    "tbody =  html.select('#container > div.contents.calorieDc > table > tbody')\n",
    "trs = tbody.select('tr')\n",
    "\n",
    "for tr in trs:\n",
    "    rank = tr.select_one('div.contents.calorieDc > table > tbody > tr:nth-child(1) > td:nth-child(1)').get_text() #순위\n",
    "    rank_change = tr.select_one('div.contents.calorieDc > table > tbody > tr:nth-child(1) > td:nth-child(2)').get_text() #순위변동\n",
    "    sports = tr.select_one('div.contents.calorieDc > table > tbody > tr:nth-child(1) > td.subject > a').get_text() #운동칼로리\n",
    "    burglar = tr.select_one('div.contents.calorieDc > table > tbody > tr:nth-child(1) > td:nth-child(4)').get_text() #강도/세트\n",
    "    unit = tr.select_one('div.contents.calorieDc > table > tbody > tr:nth-child(1) > td:nth-child(5)').get_text() #운동단위\n",
    "    calorie = tr.select_one('div.contents.calorieDc > table > tbody > tr:nth-child(1) > td:nth-child(6) > font > font').get_text() #칼로리\n",
    "\n",
    "    pirnt(rank)"
   ]
  }
 ],
 "metadata": {
  "kernelspec": {
   "display_name": "Python 3",
   "language": "python",
   "name": "python3"
  },
  "language_info": {
   "codemirror_mode": {
    "name": "ipython",
    "version": 3
   },
   "file_extension": ".py",
   "mimetype": "text/x-python",
   "name": "python",
   "nbconvert_exporter": "python",
   "pygments_lexer": "ipython3",
   "version": "3.8.5"
  }
 },
 "nbformat": 4,
 "nbformat_minor": 4
}
