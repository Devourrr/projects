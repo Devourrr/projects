{
 "cells": [
  {
   "cell_type": "markdown",
   "metadata": {},
   "source": [
    "# 14_20210427\n"
   ]
  },
  {
   "cell_type": "code",
   "execution_count": 92,
   "metadata": {},
   "outputs": [
    {
     "name": "stdout",
     "output_type": "stream",
     "text": [
      "<Response [200]>\n",
      "<금주의 운동칼로리 검색 순위 TOP>\n",
      "1 - 보통 걷기 가볍게 10(분) 21 kcal\n",
      "2 - 만보걷기 1 10000(회) 334 kcal\n",
      "3 - 싸이클 실내자전거 가볍게 10(분) 50 kcal\n",
      "4 - 빠르게걷기 빠르게 10(분) 40 kcal\n",
      "5 ▲ 런닝머신 걷기 3.5km/h 10(분) 28 kcal\n",
      "6 - 스트레칭 보통으로 10(분) 40 kcal\n",
      "7 ▲ 스쿼트 1 30(회) 7.2 kcal\n",
      "8 ▲ 런닝머신 달리기 5.0㎞/h 10(분) 60.5 kcal\n",
      "9 ▲ 필라테스 보통으로 30(분) 150 kcal\n",
      "10 ▼ 자전거 타기 보통으로 10(분) 80 kcal\n",
      "11 ▼ 산책 걷기 가볍게 10(분) 21 kcal\n",
      "12 ▲ 스텝퍼 보통으로 10(분) 60 kcal\n",
      "13 ▲ 헬스 보통으로 10(분) 55 kcal\n",
      "14 ▼ 조깅 달리기 보통으로 10(분) 70 kcal\n",
      "15 ▼ 등산 하이킹 보통으로 60(분) 480 kcal\n",
      "16 - 계단오르기 걷기 가볍게 10(분) 63 kcal\n",
      "17 ▼ 플랭크 보통으로 30(초) 2.1 kcal\n",
      "18 ▲ 요가 일반 30(분) 75 kcal\n",
      "19 ▼ 레그레이즈 1 5(회) 2.35 kcal\n",
      "20 ▲ 크런치 1 20(회) 6 kcal\n",
      "21 ▼ 훌라후프 보통으로 10(분) 40 kcal\n",
      "22 ▼ 와이드 스쿼트 1 30(회) 13.2 kcal\n",
      "23 ▼ 슬로우버피 1 20(회) 60 kcal\n",
      "24 ▼ 줄넘기 1 1000(회) 80 kcal\n",
      "25 ▲ 방송댄스 보통으로 10(분) 70 kcal\n",
      "26 ▼ 줄넘기(시간) 보통 60(분) 630 kcal\n",
      "27 ▼ 골프 일반 1(분) 4.5 kcal\n",
      "28 ▼ 윗몸일으키기(세트) 1 15(회) 10.5 kcal\n",
      "29 ▲ 타바타 운동 윗몸일으키기 1(분) 8 kcal\n",
      "30 ▼ 마일리 사이러스 하체 운동 보통으로 10(분) 130 kcal\n"
     ]
    }
   ],
   "source": [
    "import requests\n",
    "from bs4 import BeautifulSoup\n",
    "\n",
    "url = 'https://www.dietshin.com/calorie/sports_main.asp'\n",
    "res = requests.get(url)\n",
    "print(res)\n",
    "\n",
    "bs =BeautifulSoup(res.text, 'html.parser')\n",
    "\n",
    "\n",
    "tbody = bs.select_one('#container > div> table > tbody')\n",
    "trs = tbody.select('tr')\n",
    "title=('<금주의 운동칼로리 검색 순위 TOP>')\n",
    "print(title)\n",
    "\n",
    "for tr in trs:\n",
    "\n",
    "     \n",
    "    rank = tr.select_one('td:nth-child(1) ').get_text()\n",
    "    rank_change=tr.select_one('td:nth-child(2) > img')['alt']\n",
    "    if '동등' in rank_change :\n",
    "         rank_change = '-'\n",
    "    elif '상승' in rank_change:\n",
    "         rank_change= '▲'    \n",
    "    elif '하락' in rank_change:\n",
    "         rank_change= '▼' \n",
    "    traning=tr.select_one(' td.subject > a').get_text()\n",
    "    set=tr.select_one('td:nth-child(4)').get_text()\n",
    "    per=tr.select_one('td:nth-child(5)').get_text()\n",
    "    calorie =tr.select_one('td:nth-child(6)').get_text()\n",
    "\n",
    "   \n",
    "    print(rank,rank_change,traning,set,per,calorie)\n",
    "    \n",
    "\n",
    "\n"
   ]
  },
  {
   "cell_type": "code",
   "execution_count": null,
   "metadata": {},
   "outputs": [],
   "source": []
  },
  {
   "cell_type": "code",
   "execution_count": null,
   "metadata": {},
   "outputs": [],
   "source": []
  }
 ],
 "metadata": {
  "kernelspec": {
   "display_name": "Python 3",
   "language": "python",
   "name": "python3"
  },
  "language_info": {
   "codemirror_mode": {
    "name": "ipython",
    "version": 3
   },
   "file_extension": ".py",
   "mimetype": "text/x-python",
   "name": "python",
   "nbconvert_exporter": "python",
   "pygments_lexer": "ipython3",
   "version": "3.8.5"
  }
 },
 "nbformat": 4,
 "nbformat_minor": 4
}
