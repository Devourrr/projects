{
 "cells": [
  {
   "cell_type": "markdown",
   "metadata": {},
   "source": [
    "#BeautifulSoup 활용한 웹 스크래핑\n",
    "네이버 금융"
   ]
  },
  {
   "cell_type": "code",
   "execution_count": 6,
   "metadata": {},
   "outputs": [
    {
     "name": "stdout",
     "output_type": "stream",
     "text": [
      "<Response [200]>\n"
     ]
    }
   ],
   "source": [
    "import requests\n",
    "from bs4 import BeautifulSoup\n",
    "\n",
    "res = requests.get('https://finance.naver.com')\n",
    "print(res)\n",
    "\n",
    "bs = BeautifulSoup(res.text,'lxml') # html.parser\n",
    "\n"
   ]
  },
  {
   "cell_type": "code",
   "execution_count": 45,
   "metadata": {},
   "outputs": [
    {
     "ename": "TypeError",
     "evalue": "unsupported operand type(s) for -: 'str' and 'str'",
     "output_type": "error",
     "traceback": [
      "\u001b[1;31m---------------------------------------------------------------------------\u001b[0m",
      "\u001b[1;31mTypeError\u001b[0m                                 Traceback (most recent call last)",
      "\u001b[1;32m<ipython-input-45-0767561a4616>\u001b[0m in \u001b[0;36m<module>\u001b[1;34m\u001b[0m\n\u001b[0;32m     16\u001b[0m \u001b[1;33m\u001b[0m\u001b[0m\n\u001b[0;32m     17\u001b[0m \u001b[1;32mif\u001b[0m \u001b[0mitem_direction\u001b[0m \u001b[1;33m==\u001b[0m \u001b[1;34m'up'\u001b[0m\u001b[1;33m:\u001b[0m\u001b[1;33m\u001b[0m\u001b[1;33m\u001b[0m\u001b[0m\n\u001b[1;32m---> 18\u001b[1;33m     \u001b[0mitem_price_yesterday\u001b[0m \u001b[1;33m=\u001b[0m \u001b[0mitem_price\u001b[0m \u001b[1;33m-\u001b[0m \u001b[0mitem_diff\u001b[0m\u001b[1;33m\u001b[0m\u001b[1;33m\u001b[0m\u001b[0m\n\u001b[0m\u001b[0;32m     19\u001b[0m \u001b[1;32melse\u001b[0m\u001b[1;33m:\u001b[0m\u001b[1;33m\u001b[0m\u001b[1;33m\u001b[0m\u001b[0m\n\u001b[0;32m     20\u001b[0m     \u001b[0mitem_price_yesterday\u001b[0m \u001b[1;33m=\u001b[0m \u001b[0mitem_price\u001b[0m \u001b[1;33m+\u001b[0m \u001b[0mitem_diff\u001b[0m\u001b[1;33m\u001b[0m\u001b[1;33m\u001b[0m\u001b[0m\n",
      "\u001b[1;31mTypeError\u001b[0m: unsupported operand type(s) for -: 'str' and 'str'"
     ]
    }
   ],
   "source": [
    "tbody = bs.select_one('#container > div.aside > div.group_aside > div.aside_area.aside_popular > table > tbody')\n",
    "trs = tbody.select('tr')\n",
    "for tr in trs:\n",
    "    item_name = tr.select_one('th > a').get_text()\n",
    "    item_price = tr.select_one('td:nth-child(2)').get_text().replace(\",\",\"\")\n",
    "    \n",
    "    item_diff = tr.select_one('td:nth-child(3) > span').get_text().replace(\",\",\"\")\n",
    "    item_direction = tr['class'][0]\n",
    "#     print(item_name)\n",
    "    \n",
    "#     if item_direction == \"up\":\n",
    "#         print(\"증가\")\n",
    "#     elif item_direction == \"down\":\n",
    "#         print(\"감소\")\n",
    "#     print(tr)\n",
    "\n",
    "    if item_direction == 'up':\n",
    "        item_price_yesterday = item_price - item_diff\n",
    "    else:\n",
    "        item_price_yesterday = item_price + item_diff\n",
    "\n",
    "print(item_name, item_price,item_diff, item_direction, item_price_yesterday)\n",
    "\n"
   ]
  },
  {
   "cell_type": "markdown",
   "metadata": {},
   "source": [
    "## CSS Selector 문법"
   ]
  },
  {
   "cell_type": "markdown",
   "metadata": {},
   "source": [
    "## 위키백과 스크래핑"
   ]
  },
  {
   "cell_type": "code",
   "execution_count": 47,
   "metadata": {},
   "outputs": [
    {
     "name": "stdout",
     "output_type": "stream",
     "text": [
      "<Response [200]>\n"
     ]
    }
   ],
   "source": []
  },
  {
   "cell_type": "code",
   "execution_count": 6,
   "metadata": {},
   "outputs": [
    {
     "name": "stdout",
     "output_type": "stream",
     "text": [
      "검색 키워드:객체지향\n",
      "<Response [200]>\n",
      "1 역사\n",
      "\t1.1 객체 지향 언어의 시초\n",
      "\t1.2 스몰토크\n",
      "\t1.3 에이다\n",
      "\t1.4 이후에는\n",
      "2 기본 구성 요소\n",
      "3 특징\n",
      "\t3.1 자료 추상화\n",
      "\t3.2 상속\n",
      "\t3.3 다중 상속\n",
      "\t3.4 다형성 개념\n",
      "\t3.5 동적 바인딩\n",
      "4 장점\n",
      "5 객체 지향 언어\n",
      "6 참고 문헌\n",
      "7 같이 보기\n",
      "8 외부 링크\n"
     ]
    }
   ],
   "source": [
    "import requests\n",
    "from bs4 import BeautifulSoup\n",
    "\n",
    "keyword = input('검색 키워드:')\n",
    "res = requests.get(f'https://ko.wikipedia.org/wiki/{keyword}')\n",
    "print(res)\n",
    "\n",
    "bs = BeautifulSoup(res.text,'lxml') # html.parser\n",
    "\n",
    "try:\n",
    "    ul = bs.select_one('#toc>ul') # toc 라는 ID를 갖는 요소\n",
    "    contents = ul.select('li> a') # 부모 아래에 있는 a 자식 태그 찾기\n",
    "    for content in contents:\n",
    "        #레벨별 들여쓰기 표현\n",
    "        tabs = content.get_text().count('.') * '\\t' # 숫자*문자->문자가 숫자만큼 반복\n",
    "        print(tabs + content.get_text() ) # 문자 + 문자 => 문자 이어서 붙임\n",
    "except:\n",
    "    print('페이지가 없거나 목차가 존재하지 않는 페이지입니다')\n",
    "    print(f'https://ko.wikipedia.org/wiki/{keyword}')"
   ]
  },
  {
   "cell_type": "code",
   "execution_count": 1,
   "metadata": {},
   "outputs": [
    {
     "name": "stdout",
     "output_type": "stream",
     "text": [
      "검색 키워드:파이썬, 귀도반로섬, 자바\n",
      "['파이썬', '귀도반로섬', '자바']\n",
      "<Response [200]>\n",
      "파이썬\n",
      "----------------------------------------\n",
      "1 개요\n",
      "2 역사\n",
      "\t2.1 파이썬 2\n",
      "\t2.2 파이썬 3\n",
      "\t2.3 인기\n",
      "3 기능과 철학\n",
      "\t3.1 라이브러리\n",
      "4 문법\n",
      "5 자료형\n",
      "6 동작하는 플랫폼\n",
      "7 한글 다루기\n",
      "8 사용 현황\n",
      "\t8.1 파이썬으로 작성된 자유-오픈 소스 소프트웨어\n",
      "\t8.2 파이썬을 내부적으로 사용하는 소프트웨어\n",
      "\t8.3 파이썬을 이용하고 있는 기업·정부 기관\n",
      "9 실행 속도 향상 관련\n",
      "10 비평\n",
      "11 같이 보기\n",
      "12 각주\n",
      "13 외부 링크\n",
      "\n",
      "\n",
      "\n",
      "<Response [200]>\n",
      "귀도반로섬\n",
      "----------------------------------------\n",
      "1 생애\n",
      "2 가족관계\n",
      "3 업적\n",
      "4 파이썬\n",
      "5 각주\n",
      "6 외부 링크\n",
      "\n",
      "\n",
      "\n",
      "<Response [200]>\n",
      "자바\n",
      "----------------------------------------\n",
      "페이지가 없거나 목차가 존재하지 않는 페이지입니다\n",
      "\n",
      "\n",
      "\n"
     ]
    }
   ],
   "source": [
    "'''\n",
    "검색키워드>>> 파이썬, 귀도반로섬, C++\n",
    "결과가>>\n",
    "파이썬\n",
    "1. 목차1\n",
    "2. 목차\n",
    "\n",
    "귀도반로섬\n",
    "1.목차\n",
    "2.목차\n",
    "\n",
    "C++\n",
    "1.목차\n",
    "2.목차 split list 가지고 반복문 돌려라\n",
    "'''\n",
    "import requests\n",
    "from bs4 import BeautifulSoup\n",
    "\n",
    "keyword = input('검색 키워드:')\n",
    "keyword_list = keyword.split(', ')\n",
    "print(keyword_list)\n",
    "\n",
    "for keyword in keyword_list:\n",
    "    keyword=keyword.strip() # 좌우공백제거\n",
    "    res = requests.get(f'https://ko.wikipedia.org/wiki/{keyword}')\n",
    "    print(res)\n",
    "    print(keyword)\n",
    "    print('-'*40)\n",
    "    \n",
    "    bs = BeautifulSoup(res.text,'lxml') # html.parser\n",
    "\n",
    "    try:\n",
    "        ul = bs.select_one('#toc>ul') # toc 라는 ID를 갖는 요소\n",
    "        contents = ul.select('li> a') # 부모 아래에 있는 a 자식 태그 찾기\n",
    "        for content in contents:\n",
    "            #레벨별 들여쓰기 표현\n",
    "            tabs = content.get_text().count('.') * '\\t' # 숫자*문자->문자가 숫자만큼 반복\n",
    "            print(tabs + content.get_text() ) # 문자 + 문자 => 문자 이어서 붙임\n",
    "        \n",
    "    except:\n",
    "        print('페이지가 없거나 목차가 존재하지 않는 페이지입니다')\n",
    "    print()\n",
    "    print()\n",
    "    print()\n",
    "\n",
    "   "
   ]
  },
  {
   "cell_type": "markdown",
   "metadata": {},
   "source": [
    "## 이미지 다운로드"
   ]
  },
  {
   "cell_type": "code",
   "execution_count": 48,
   "metadata": {
    "scrolled": true
   },
   "outputs": [
    {
     "name": "stdout",
     "output_type": "stream",
     "text": [
      "검색 키워드:파이썬\n",
      "<Response [200]>\n",
      "['', '', 'upload.wikimedia.org', 'wikipedia', 'commons', 'thumb', '6', '66', 'Guido_van_Rossum_OSCON_2006.jpg', '150px-Guido_van_Rossum_OSCON_2006.jpg']\n",
      "150 225\n",
      "150px-Guido_van_Rossum_OSCON_2006.jpg\n",
      "['', '', 'upload.wikimedia.org', 'wikipedia', 'commons', 'thumb', 'e', 'e1', 'Python_add5_syntax.svg', '400px-Python_add5_syntax.svg.png']\n",
      "400 298\n",
      "400px-Python_add5_syntax.svg.png\n"
     ]
    }
   ],
   "source": [
    "import requests\n",
    "from bs4 import BeautifulSoup\n",
    "import urllib.request\n",
    "\n",
    "keyword = input('검색 키워드:')\n",
    "\n",
    "res = requests.get(f'https://ko.wikipedia.org/wiki/{keyword}')\n",
    "print(res)\n",
    "\n",
    "bs = BeautifulSoup(res.text,'lxml') # html.parser\n",
    "\n",
    "# 이미지 다운로드\n",
    "imgs = bs.select('img.thumbimage')\n",
    "for img in imgs:\n",
    "    print(img['src'].split('/'))\n",
    "    print(img['width'],img['height'])\n",
    "    file_name = img['src'].split('/')[-1]\n",
    "    print(file_name)\n",
    "    urllib.request.urlretrieve(f\"https:{img['src']}\", f\"img/file_name\")\n",
    "   "
   ]
  },
  {
   "cell_type": "markdown",
   "metadata": {},
   "source": [
    "# 엑셀 다루기"
   ]
  },
  {
   "cell_type": "markdown",
   "metadata": {},
   "source": [
    "액셀 구조\n",
    "Application > Workbook(파일)> Sheets> Range, Rows, Columns, Cells, ..."
   ]
  },
  {
   "cell_type": "code",
   "execution_count": 55,
   "metadata": {},
   "outputs": [],
   "source": [
    "from openpyxl import Workbook\n",
    "'''\n",
    "데이터 쓰기\n",
    "'''\n",
    "wb = Workbook() # 워크북 생성\n",
    "ws = wb.active # 활성화된 시트 선택\n",
    "ws.title = 'sample' # 시트명 지정\n",
    "\n",
    "# 셀 주소로 값 입력\n",
    "ws['A1'] = 'KJH says'\n",
    "\n",
    "# 셀 좌표로 값 입력(행,열,입력값) \n",
    "ws.cell(1,2,'values:vlue123')\n",
    "# 엑셀 파일 저장\n",
    "wb.save('sample1.xlsx')\n"
   ]
  }
 ],
 "metadata": {
  "kernelspec": {
   "display_name": "Python 3",
   "language": "python",
   "name": "python3"
  },
  "language_info": {
   "codemirror_mode": {
    "name": "ipython",
    "version": 3
   },
   "file_extension": ".py",
   "mimetype": "text/x-python",
   "name": "python",
   "nbconvert_exporter": "python",
   "pygments_lexer": "ipython3",
   "version": "3.8.5"
  }
 },
 "nbformat": 4,
 "nbformat_minor": 4
}
