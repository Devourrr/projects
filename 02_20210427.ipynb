{
 "cells": [
  {
   "cell_type": "code",
   "execution_count": 90,
   "metadata": {},
   "outputs": [
    {
     "name": "stdout",
     "output_type": "stream",
     "text": [
      "운동 단위(회/분): 회\n",
      "\n",
      "<금주의 운동칼로리 검색 순위 TOP>\n",
      "1. - 만보걷기 1 10000(회) 334 kcal\n",
      "2. ▲ 스쿼트 1 30(회) 7.2 kcal\n",
      "3. ▼ 레그레이즈 1 5(회) 2.35 kcal\n",
      "4. ▲ 크런치 1 20(회) 6 kcal\n",
      "5. ▼ 와이드 스쿼트 1 30(회) 13.2 kcal\n",
      "6. ▼ 슬로우버피 1 20(회) 60 kcal\n",
      "7. ▼ 줄넘기 1 1000(회) 80 kcal\n",
      "8. ▼ 윗몸일으키기(세트) 1 15(회) 10.5 kcal\n"
     ]
    }
   ],
   "source": [
    "import requests\n",
    "from bs4 import BeautifulSoup\n",
    "\n",
    "url = 'https://www.dietshin.com/calorie/sports_main.asp'\n",
    "res = requests.get(url)\n",
    "# print(res)\n",
    "\n",
    "bs = BeautifulSoup(res.text,'html.parser')\n",
    "\n",
    "user = input('운동 단위(회/분): ')\n",
    "print()\n",
    "print('<금주의 운동칼로리 검색 순위 TOP>')\n",
    "n = 0\n",
    "\n",
    "tbody = bs.select_one('#container > div.contents.calorieDc > table > tbody')\n",
    "trs = tbody.select('tr')\n",
    "\n",
    "for tr in trs:\n",
    "    rank = tr.select_one('td:nth-child(1)').get_text()\n",
    "    rank_change = tr.select_one('td:nth-child(2) > img')['alt']\n",
    "    if rank_change == '상승':\n",
    "        rank_change = '▲'\n",
    "    elif rank_change =='하락':\n",
    "        rank_change = '▼'\n",
    "    elif rank_change == '동등':\n",
    "        rank_change = '-'\n",
    "    subject = tr.select_one('td.subject > a').get_text()\n",
    "    st = tr.select_one('td:nth-child(4)').get_text()\n",
    "    cnt = tr.select_one('td:nth-child(5)').get_text()\n",
    "    unit = cnt[-2]\n",
    "    calorie = tr.select_one('td:nth-child(6)').get_text()\n",
    "    \n",
    "    if unit == '초':\n",
    "        continue\n",
    "    elif unit == user:\n",
    "        n = n + 1\n",
    "        print(f'{n}.', rank_change, subject, st, cnt, calorie)"
   ]
  },
  {
   "cell_type": "code",
   "execution_count": null,
   "metadata": {},
   "outputs": [],
   "source": []
  }
 ],
 "metadata": {
  "kernelspec": {
   "display_name": "Python 3",
   "language": "python",
   "name": "python3"
  },
  "language_info": {
   "codemirror_mode": {
    "name": "ipython",
    "version": 3
   },
   "file_extension": ".py",
   "mimetype": "text/x-python",
   "name": "python",
   "nbconvert_exporter": "python",
   "pygments_lexer": "ipython3",
   "version": "3.8.5"
  }
 },
 "nbformat": 4,
 "nbformat_minor": 4
}
