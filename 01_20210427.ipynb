{
 "cells": [
  {
   "cell_type": "code",
   "execution_count": 40,
   "metadata": {},
   "outputs": [],
   "source": [
    "import requests\n",
    "from bs4 import BeautifulSoup\n",
    "\n",
    "url='https://www.dietshin.com/calorie/sports_main.asp'\n",
    "res = requests.get(url)\n",
    "# print(res)\n",
    "\n",
    "bs = BeautifulSoup(res.text, 'html.parser')\n",
    "# print(bs)\n",
    "tbody=bs.select_one('#container > div.contents.calorieDc > table > tbody')\n",
    "a=[]\n",
    "for i in range(1,31) :\n",
    "    rank=tbody.select_one(f'tr:nth-child({i}) > td:nth-child(1)').get_text()\n",
    "    rch=tbody.select_one(f'tr:nth-child({i}) > td:nth-child(2) > img')['alt']\n",
    "    if rch == '동등':\n",
    "        rch = ' -'\n",
    "    elif rch == '상승':\n",
    "        rch ='▲'\n",
    "    elif rch == '하락':\n",
    "        rch = '▼'\n",
    "        \n",
    "    exer=tbody.select_one(f'tr:nth-child({i}) > td.subject > a').get_text()\n",
    "    st=tbody.select_one(f'tr:nth-child({i}) > td:nth-child(4)').get_text()\n",
    "    time=tbody.select_one(f'tr:nth-child({i}) > td:nth-child(5)').get_text()\n",
    "    cal=tbody.select_one(f'tr:nth-child({i}) > td:nth-child(6)').get_text()\n",
    "    a.append([rank, rch, exer, st, time, cal])   \n",
    "\n",
    "    \n",
    "    "
   ]
  },
  {
   "cell_type": "code",
   "execution_count": null,
   "metadata": {},
   "outputs": [],
   "source": []
  }
 ],
 "metadata": {
  "kernelspec": {
   "display_name": "Python 3",
   "language": "python",
   "name": "python3"
  },
  "language_info": {
   "codemirror_mode": {
    "name": "ipython",
    "version": 3
   },
   "file_extension": ".py",
   "mimetype": "text/x-python",
   "name": "python",
   "nbconvert_exporter": "python",
   "pygments_lexer": "ipython3",
   "version": "3.8.5"
  }
 },
 "nbformat": 4,
 "nbformat_minor": 4
}
