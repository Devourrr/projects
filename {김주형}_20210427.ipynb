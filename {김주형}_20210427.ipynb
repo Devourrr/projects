{
 "cells": [
  {
   "cell_type": "markdown",
   "metadata": {},
   "source": [
    "## 다음 조건에 따라 웹 사이트에서 금주의 운동칼로리 검색 순위에 대한 정보를 수집하여 출력하시오"
   ]
  },
  {
   "cell_type": "code",
   "execution_count": 107,
   "metadata": {},
   "outputs": [
    {
     "name": "stdout",
     "output_type": "stream",
     "text": [
      "<금주의 운동칼로리 검색 순위 TOP>\n",
      "2 .- 만보걷기 1 10000(회) 334 kcal\n",
      "7 .▲ 스쿼트 1 30(회) 7.2 kcal\n",
      "19 .▼ 레그레이즈 1 5(회) 2.35 kcal\n",
      "20 .▲ 크런치 1 20(회) 6 kcal\n",
      "22 .▼ 와이드 스쿼트 1 30(회) 13.2 kcal\n",
      "23 .▼ 슬로우버피 1 20(회) 60 kcal\n",
      "24 .▼ 줄넘기 1 1000(회) 80 kcal\n",
      "28 .▼ 윗몸일으키기(세트) 1 15(회) 10.5 kcal\n"
     ]
    }
   ],
   "source": [
    "import requests\n",
    "from bs4 import BeautifulSoup\n",
    "\n",
    "url ='https://www.dietshin.com/calorie/sports_main.asp'\n",
    "res = requests.get(url)\n",
    "# print(res)\n",
    "bs = BeautifulSoup(res.text,'html.parser')\n",
    "# print(bs)\n",
    "tbody = bs.select_one('#container > div.contents.calorieDc > table > tbody')\n",
    "# print(tbody)\n",
    "trs = tbody.select('tr')\n",
    "head = bs.select_one('#container > div.contents.calorieDc > h3').get_text()\n",
    "a = '<'\n",
    "b = '>'\n",
    "title = a +head +b\n",
    "print(title)\n",
    "# print(trs)\n",
    "for tr in trs:\n",
    "\n",
    "    rate_variation =tr.select_one('td:nth-child(2) > img').get('alt')\n",
    "    if '동등' in rate_variation:\n",
    "        rate_variation = rate_variation.replace('동등','.-')\n",
    "        \n",
    "    elif '상승' in rate_variation:\n",
    "        rate_variation = rate_variation.replace('상승','.▲')\n",
    "        \n",
    "    elif '하락' in rate_variation:\n",
    "        rate_variation = rate_variation.replace('하락','.▼')\n",
    "    exercise = tr.select_one('td.subject > a').get_text()\n",
    "    intensity = tr.select_one('td:nth-child(4)').get_text()\n",
    "    unit = tr.select_one('td:nth-child(5)').get_text()\n",
    "    if '(회)' in unit:\n",
    "        unit = unit\n",
    "    else:\n",
    "        continue\n",
    "    \n",
    "    calorie = tr.select_one('td:nth-child(6)').get_text()\n",
    "    print(rate,rate_variation, exercise, intensity,unit,calorie)"
   ]
  },
  {
   "cell_type": "code",
   "execution_count": 86,
   "metadata": {},
   "outputs": [
    {
     "name": "stdout",
     "output_type": "stream",
     "text": [
      "1\n",
      "2\n",
      "3\n",
      "4\n",
      "5\n",
      "6\n",
      "7\n"
     ]
    }
   ],
   "source": []
  }
 ],
 "metadata": {
  "kernelspec": {
   "display_name": "Python 3",
   "language": "python",
   "name": "python3"
  },
  "language_info": {
   "codemirror_mode": {
    "name": "ipython",
    "version": 3
   },
   "file_extension": ".py",
   "mimetype": "text/x-python",
   "name": "python",
   "nbconvert_exporter": "python",
   "pygments_lexer": "ipython3",
   "version": "3.8.5"
  }
 },
 "nbformat": 4,
 "nbformat_minor": 4
}
