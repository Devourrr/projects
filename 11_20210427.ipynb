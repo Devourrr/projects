{
 "cells": [
  {
   "cell_type": "code",
   "execution_count": 59,
   "metadata": {},
   "outputs": [
    {
     "name": "stdout",
     "output_type": "stream",
     "text": [
      "운동명: 줄넘기\n",
      "1 - 21 kcal 가볍게 10(분) 21 kcal\n",
      "2 - 334 kcal 1 10000(회) 334 kcal\n",
      "3 - 50 kcal 가볍게 10(분) 50 kcal\n",
      "4 - 40 kcal 빠르게 10(분) 40 kcal\n",
      "5 ▲ 28 kcal 3.5km/h 10(분) 28 kcal\n",
      "6 - 40 kcal 보통으로 10(분) 40 kcal\n",
      "7 ▲ 7.2 kcal 1 30(회) 7.2 kcal\n",
      "8 ▲ 60.5 kcal 5.0㎞/h 10(분) 60.5 kcal\n",
      "9 ▲ 150 kcal 보통으로 30(분) 150 kcal\n",
      "10 하락 80 kcal 보통으로 10(분) 80 kcal\n",
      "11 하락 21 kcal 가볍게 10(분) 21 kcal\n",
      "12 ▲ 60 kcal 보통으로 10(분) 60 kcal\n",
      "13 ▲ 55 kcal 보통으로 10(분) 55 kcal\n",
      "14 하락 70 kcal 보통으로 10(분) 70 kcal\n",
      "15 하락 480 kcal 보통으로 60(분) 480 kcal\n",
      "16 - 63 kcal 가볍게 10(분) 63 kcal\n",
      "17 하락 2.1 kcal 보통으로 30(초) 2.1 kcal\n",
      "18 ▲ 75 kcal 일반 30(분) 75 kcal\n",
      "19 하락 2.35 kcal 1 5(회) 2.35 kcal\n",
      "20 ▲ 6 kcal 1 20(회) 6 kcal\n",
      "21 하락 40 kcal 보통으로 10(분) 40 kcal\n",
      "22 하락 13.2 kcal 1 30(회) 13.2 kcal\n",
      "23 하락 60 kcal 1 20(회) 60 kcal\n",
      "24 하락 80 kcal 1 1000(회) 80 kcal\n",
      "25 ▲ 70 kcal 보통으로 10(분) 70 kcal\n",
      "26 하락 630 kcal 보통 60(분) 630 kcal\n",
      "27 하락 4.5 kcal 일반 1(분) 4.5 kcal\n",
      "28 하락 10.5 kcal 1 15(회) 10.5 kcal\n",
      "29 ▲ 8 kcal 윗몸일으키기 1(분) 8 kcal\n",
      "30 하락 130 kcal 보통으로 10(분) 130 kcal\n"
     ]
    }
   ],
   "source": [
    "from bs4 import BeautifulSoup\n",
    "import requests\n",
    "\n",
    "url = 'https://www.dietshin.com/calorie/sports_main.asp'\n",
    "res = requests.get(url)\n",
    "bs = BeautifulSoup(res.text,'lxml')\n",
    "tbody = bs.select_one('#container > div.contents.calorieDc > table > tbody')\n",
    "trs = tbody.select('tr')\n",
    "\n",
    "name = input(\"운동명: \")\n",
    "\n",
    "for tr in trs:\n",
    "    \n",
    "    \n",
    "    rank = tr.select_one('td:nth-child(1)').get_text()\n",
    "    change = tr.select_one('td:nth-child(2) > img').get('alt')\n",
    "    \n",
    "    \n",
    "    if change == \"상승\":\n",
    "        change = \"▲\"\n",
    "    elif change == \"하락\":\n",
    "        change == \"▼\"\n",
    "    elif change == \"동등\":\n",
    "        change = \"-\"\n",
    "        \n",
    "            \n",
    "    E_name = tr.select_one('td').get_text()\n",
    "    power = tr.select_one('td:nth-child(4)').get_text()\n",
    "    count = tr.select_one('td:nth-child(5)').get_text()\n",
    "    calorie = tr.select_one('td:nth-child(6)').get_text()\n",
    "    \n",
    "    \n",
    "    \n",
    "    print(rank,change,calorie,power,count,calorie)\n"
   ]
  },
  {
   "cell_type": "code",
   "execution_count": null,
   "metadata": {},
   "outputs": [],
   "source": []
  }
 ],
 "metadata": {
  "kernelspec": {
   "display_name": "Python 3",
   "language": "python",
   "name": "python3"
  },
  "language_info": {
   "codemirror_mode": {
    "name": "ipython",
    "version": 3
   },
   "file_extension": ".py",
   "mimetype": "text/x-python",
   "name": "python",
   "nbconvert_exporter": "python",
   "pygments_lexer": "ipython3",
   "version": "3.8.5"
  }
 },
 "nbformat": 4,
 "nbformat_minor": 4
}
