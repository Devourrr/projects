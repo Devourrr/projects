{
 "cells": [
  {
   "cell_type": "code",
   "execution_count": 1,
   "metadata": {},
   "outputs": [
    {
     "name": "stdout",
     "output_type": "stream",
     "text": [
      "<금주의 운동칼로리 검색 순위 TOP>\n",
      "1 - 만보걷기 1 10000(회) 334 kcal\n",
      "2 ▼ 스쿼트 1 30(회) 7.2 kcal\n",
      "3 ▲ 와이드 스쿼트 1 30(회) 13.2 kcal\n",
      "4 ▼ 레그레이즈 1 5(회) 2.35 kcal\n",
      "5 ▼ 크런치 1 20(회) 6 kcal\n",
      "6 - 슬로우버피 1 20(회) 60 kcal\n",
      "7 ▲ 윗몸일으키기(세트) 1 15(회) 10.5 kcal\n"
     ]
    }
   ],
   "source": [
    "import requests\n",
    "from bs4 import BeautifulSoup\n",
    "\n",
    "url = 'https://www.dietshin.com/calorie/sports_main.asp'\n",
    "res =requests.get(url)\n",
    "#print(res)\n",
    "\n",
    "bs = BeautifulSoup(res.text,'lxml')\n",
    "tbody = bs.select_one('#container > div.contents.calorieDc > table > tbody')\n",
    "trs = tbody.select('tr')\n",
    "print(\"<금주의 운동칼로리 검색 순위 TOP>\")\n",
    "i = 0\n",
    "for tr in trs :\n",
    "    rank_change = tr.select_one('td:nth-child(2) > img')['alt']   #순위 변동\n",
    "    cal_name = tr.select_one('td.subject > a').get_text()  # 운동 명칭\n",
    "    cal_set = tr.select_one('td:nth-child(4)') .get_text()   # 운동 셋트,횟수\n",
    "    time =tr.select_one('td:nth-child(5)').get_text()       #운동 분/초/횟수\n",
    "    tot_cal = tr.select_one('td:nth-child(6)').get_text()   #소모 칼로리\n",
    "    if \"회\" in time:\n",
    "        rank = 1 + i  #순위\n",
    "        i = i+1\n",
    "      \n",
    "        if \"동등\" in rank_change:  \n",
    "            rank_change = '-'\n",
    "        elif \"하락\" in rank_change:\n",
    "            rank_change = '▼'\n",
    "        else:\n",
    "            rank_change = '▲'\n",
    "    \n",
    "        print(rank, rank_change, cal_name, cal_set, time, tot_cal)\n",
    "    #          순위, 순위변동   운동명 ,   셋트수.운동횟수,소모칼로리       \n",
    "    \n",
    "    \n",
    "\n"
   ]
  }
 ],
 "metadata": {
  "kernelspec": {
   "display_name": "Python 3",
   "language": "python",
   "name": "python3"
  },
  "language_info": {
   "codemirror_mode": {
    "name": "ipython",
    "version": 3
   },
   "file_extension": ".py",
   "mimetype": "text/x-python",
   "name": "python",
   "nbconvert_exporter": "python",
   "pygments_lexer": "ipython3",
   "version": "3.8.5"
  }
 },
 "nbformat": 4,
 "nbformat_minor": 4
}
