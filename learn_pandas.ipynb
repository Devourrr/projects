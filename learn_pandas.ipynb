{
 "cells": [
  {
   "cell_type": "markdown",
   "metadata": {},
   "source": [
    "# 금융데이터 분석을 위한 Pandas"
   ]
  },
  {
   "cell_type": "code",
   "execution_count": 1,
   "metadata": {},
   "outputs": [
    {
     "name": "stdout",
     "output_type": "stream",
     "text": [
      "[10, 20, 30]\n"
     ]
    }
   ],
   "source": [
    "# 02/26.py\n",
    "data = [1, 2, 3]\n",
    "new_data = [ ]\n",
    "\n",
    "for x in data:\n",
    "    new_data.append(x * 10)\n",
    "    \n",
    "print(new_data)"
   ]
  },
  {
   "cell_type": "code",
   "execution_count": 2,
   "metadata": {},
   "outputs": [
    {
     "name": "stdout",
     "output_type": "stream",
     "text": [
      "[1, 2, 3, 1, 2, 3, 1, 2, 3, 1, 2, 3, 1, 2, 3, 1, 2, 3, 1, 2, 3, 1, 2, 3, 1, 2, 3, 1, 2, 3]\n"
     ]
    }
   ],
   "source": [
    "# 02/27.py\n",
    "data = [1, 2, 3]\n",
    "new_data = data * 10\n",
    "print(new_data)"
   ]
  },
  {
   "cell_type": "code",
   "execution_count": 4,
   "metadata": {},
   "outputs": [
    {
     "name": "stdout",
     "output_type": "stream",
     "text": [
      "[1 2 3 4 5]\n",
      "[3 4 5 6 7]\n",
      "[-1  0  1  2  3]\n",
      "[ 2  4  6  8 10]\n",
      "[0.5 1.  1.5 2.  2.5]\n"
     ]
    }
   ],
   "source": [
    "# 02/28.py\n",
    "'''\n",
    "NumPy Array(배열) 객체의 사칙 연산\n",
    "'''\n",
    "\n",
    "import numpy as np\n",
    "\n",
    "data = [1, 2, 3, 4, 5]\n",
    "arr = np.array(data)\n",
    "print(arr)\n",
    "print(arr + 2)\n",
    "print(arr - 2)\n",
    "print(arr * 2)\n",
    "print(arr / 2)"
   ]
  },
  {
   "cell_type": "code",
   "execution_count": 5,
   "metadata": {},
   "outputs": [
    {
     "name": "stdout",
     "output_type": "stream",
     "text": [
      "[2700 1300  400 2200 1400]\n"
     ]
    }
   ],
   "source": [
    "# 02/29.py\n",
    "'''\n",
    "NumPy Array 끼리의 연산\n",
    "고가 - 저가\n",
    "'''\n",
    "\n",
    "import numpy as np\n",
    "\n",
    "high = [92700, 92400, 92100, 94300, 92300]\n",
    "low = [90000, 91100, 91700, 92100, 90900]\n",
    "\n",
    "arr_high = np.array(high)\n",
    "arr_low = np.array(low)\n",
    "\n",
    "arr_diff = arr_high - arr_low\n",
    "print(arr_diff)"
   ]
  },
  {
   "cell_type": "code",
   "execution_count": 6,
   "metadata": {},
   "outputs": [
    {
     "name": "stdout",
     "output_type": "stream",
     "text": [
      "range(0, 10)\n",
      "[0 1 2 3 4 5 6 7 8 9]\n"
     ]
    }
   ],
   "source": [
    "'''\n",
    "range() vs np.arange()\n",
    "'''\n",
    "\n",
    "print(range(10))\n",
    "print(np.arange(10))"
   ]
  },
  {
   "cell_type": "code",
   "execution_count": 7,
   "metadata": {},
   "outputs": [
    {
     "name": "stdout",
     "output_type": "stream",
     "text": [
      "0 1 2 3 4 5 6 7 8 9 \n",
      "0 1 2 3 4 5 6 7 8 9 "
     ]
    }
   ],
   "source": [
    "'''\n",
    "range() vs np.arange()\n",
    "'''\n",
    "\n",
    "for i in range(10):\n",
    "    print(i, end=' ')\n",
    "\n",
    "print()\n",
    "\n",
    "for i in np.arange(10):\n",
    "    print(i, end= ' ')"
   ]
  },
  {
   "cell_type": "code",
   "execution_count": null,
   "metadata": {
    "scrolled": true
   },
   "outputs": [],
   "source": [
    "# 모두의 데이터분석 with 파이썬 Unit13\n",
    "'''\n",
    "성능 테스트 - NumPy\n",
    "'''\n",
    "\n",
    "import matplotlib.pyplot as plt\n",
    "import numpy as np\n",
    "import time\n",
    "\n",
    "start = time.time()\n",
    "\n",
    "dice = np.random.choice(6, 1000000)\n",
    "\n",
    "end = time.time()\n",
    "print(end - start)\n",
    "\n",
    "plt.hist(dice, bins=6)\n",
    "plt.show()"
   ]
  },
  {
   "cell_type": "code",
   "execution_count": 10,
   "metadata": {},
   "outputs": [
    {
     "name": "stdout",
     "output_type": "stream",
     "text": [
      "12.584133386611938\n"
     ]
    },
    {
     "name": "stderr",
     "output_type": "stream",
     "text": [
      "ERROR:root:Internal Python error in the inspect module.\n",
      "Below is the traceback from this internal error.\n",
      "\n"
     ]
    },
    {
     "name": "stdout",
     "output_type": "stream",
     "text": [
      "Traceback (most recent call last):\n",
      "  File \"C:\\Users\\user01\\anaconda3\\lib\\site-packages\\IPython\\core\\interactiveshell.py\", line 3418, in run_code\n",
      "    exec(code_obj, self.user_global_ns, self.user_ns)\n",
      "  File \"<ipython-input-10-688c13dfdbac>\", line 19, in <module>\n",
      "    plt.hist(dice, bins=6)\n",
      "  File \"C:\\Users\\user01\\anaconda3\\lib\\site-packages\\matplotlib\\pyplot.py\", line 2685, in hist\n",
      "    return gca().hist(\n",
      "  File \"C:\\Users\\user01\\anaconda3\\lib\\site-packages\\matplotlib\\__init__.py\", line 1438, in inner\n",
      "    return func(ax, *map(sanitize_sequence, args), **kwargs)\n",
      "  File \"C:\\Users\\user01\\anaconda3\\lib\\site-packages\\matplotlib\\axes\\_axes.py\", line 6576, in hist\n",
      "    x = cbook._reshape_2D(x, 'x')\n",
      "  File \"C:\\Users\\user01\\anaconda3\\lib\\site-packages\\matplotlib\\cbook\\__init__.py\", line 1387, in _reshape_2D\n",
      "    nd = np.ndim(xi)\n",
      "  File \"<__array_function__ internals>\", line 4, in ndim\n",
      "KeyboardInterrupt\n",
      "\n",
      "During handling of the above exception, another exception occurred:\n",
      "\n",
      "Traceback (most recent call last):\n",
      "  File \"C:\\Users\\user01\\anaconda3\\lib\\site-packages\\IPython\\core\\interactiveshell.py\", line 2045, in showtraceback\n",
      "    stb = value._render_traceback_()\n",
      "AttributeError: 'KeyboardInterrupt' object has no attribute '_render_traceback_'\n",
      "\n",
      "During handling of the above exception, another exception occurred:\n",
      "\n",
      "Traceback (most recent call last):\n",
      "  File \"C:\\Users\\user01\\anaconda3\\lib\\site-packages\\IPython\\core\\ultratb.py\", line 1170, in get_records\n",
      "    return _fixed_getinnerframes(etb, number_of_lines_of_context, tb_offset)\n",
      "  File \"C:\\Users\\user01\\anaconda3\\lib\\site-packages\\IPython\\core\\ultratb.py\", line 316, in wrapped\n",
      "    return f(*args, **kwargs)\n",
      "  File \"C:\\Users\\user01\\anaconda3\\lib\\site-packages\\IPython\\core\\ultratb.py\", line 350, in _fixed_getinnerframes\n",
      "    records = fix_frame_records_filenames(inspect.getinnerframes(etb, context))\n",
      "  File \"C:\\Users\\user01\\anaconda3\\lib\\inspect.py\", line 1503, in getinnerframes\n",
      "    frameinfo = (tb.tb_frame,) + getframeinfo(tb, context)\n",
      "  File \"C:\\Users\\user01\\anaconda3\\lib\\inspect.py\", line 1465, in getframeinfo\n",
      "    lines, lnum = findsource(frame)\n",
      "  File \"C:\\Users\\user01\\anaconda3\\lib\\site-packages\\IPython\\core\\ultratb.py\", line 223, in findsource\n",
      "    pat = re.compile(r'^(\\s*def\\s)|(.*(?<!\\w)lambda(:|\\s))|^(\\s*@)')\n",
      "  File \"C:\\Users\\user01\\anaconda3\\lib\\re.py\", line 252, in compile\n",
      "    return _compile(pattern, flags)\n",
      "  File \"C:\\Users\\user01\\anaconda3\\lib\\re.py\", line 304, in _compile\n",
      "    p = sre_compile.compile(pattern, flags)\n",
      "  File \"C:\\Users\\user01\\anaconda3\\lib\\sre_compile.py\", line 764, in compile\n",
      "    p = sre_parse.parse(p, flags)\n",
      "  File \"C:\\Users\\user01\\anaconda3\\lib\\sre_parse.py\", line 948, in parse\n",
      "    p = _parse_sub(source, state, flags & SRE_FLAG_VERBOSE, 0)\n",
      "  File \"C:\\Users\\user01\\anaconda3\\lib\\sre_parse.py\", line 443, in _parse_sub\n",
      "    itemsappend(_parse(source, state, verbose, nested + 1,\n",
      "  File \"C:\\Users\\user01\\anaconda3\\lib\\sre_parse.py\", line 834, in _parse\n",
      "    p = _parse_sub(source, state, sub_verbose, nested + 1)\n",
      "  File \"C:\\Users\\user01\\anaconda3\\lib\\sre_parse.py\", line 443, in _parse_sub\n",
      "    itemsappend(_parse(source, state, verbose, nested + 1,\n",
      "  File \"C:\\Users\\user01\\anaconda3\\lib\\sre_parse.py\", line 529, in _parse\n",
      "    subpatternappend((LITERAL, _ord(this)))\n",
      "  File \"C:\\Users\\user01\\anaconda3\\lib\\sre_parse.py\", line 172, in append\n",
      "    def append(self, code):\n",
      "KeyboardInterrupt\n"
     ]
    },
    {
     "ename": "TypeError",
     "evalue": "object of type 'NoneType' has no len()",
     "output_type": "error",
     "traceback": [
      "\u001b[1;31m---------------------------------------------------------------------------\u001b[0m",
      "\u001b[1;31mKeyboardInterrupt\u001b[0m                         Traceback (most recent call last)",
      "    \u001b[1;31m[... skipping hidden 1 frame]\u001b[0m\n",
      "\u001b[1;32m<ipython-input-10-688c13dfdbac>\u001b[0m in \u001b[0;36m<module>\u001b[1;34m\u001b[0m\n\u001b[0;32m     18\u001b[0m \u001b[1;33m\u001b[0m\u001b[0m\n\u001b[1;32m---> 19\u001b[1;33m \u001b[0mplt\u001b[0m\u001b[1;33m.\u001b[0m\u001b[0mhist\u001b[0m\u001b[1;33m(\u001b[0m\u001b[0mdice\u001b[0m\u001b[1;33m,\u001b[0m \u001b[0mbins\u001b[0m\u001b[1;33m=\u001b[0m\u001b[1;36m6\u001b[0m\u001b[1;33m)\u001b[0m\u001b[1;33m\u001b[0m\u001b[1;33m\u001b[0m\u001b[0m\n\u001b[0m\u001b[0;32m     20\u001b[0m \u001b[0mplt\u001b[0m\u001b[1;33m.\u001b[0m\u001b[0mshow\u001b[0m\u001b[1;33m(\u001b[0m\u001b[1;33m)\u001b[0m\u001b[1;33m\u001b[0m\u001b[1;33m\u001b[0m\u001b[0m\n",
      "\u001b[1;32m~\\anaconda3\\lib\\site-packages\\matplotlib\\pyplot.py\u001b[0m in \u001b[0;36mhist\u001b[1;34m(x, bins, range, density, weights, cumulative, bottom, histtype, align, orientation, rwidth, log, color, label, stacked, data, **kwargs)\u001b[0m\n\u001b[0;32m   2684\u001b[0m         label=None, stacked=False, *, data=None, **kwargs):\n\u001b[1;32m-> 2685\u001b[1;33m     return gca().hist(\n\u001b[0m\u001b[0;32m   2686\u001b[0m         \u001b[0mx\u001b[0m\u001b[1;33m,\u001b[0m \u001b[0mbins\u001b[0m\u001b[1;33m=\u001b[0m\u001b[0mbins\u001b[0m\u001b[1;33m,\u001b[0m \u001b[0mrange\u001b[0m\u001b[1;33m=\u001b[0m\u001b[0mrange\u001b[0m\u001b[1;33m,\u001b[0m \u001b[0mdensity\u001b[0m\u001b[1;33m=\u001b[0m\u001b[0mdensity\u001b[0m\u001b[1;33m,\u001b[0m \u001b[0mweights\u001b[0m\u001b[1;33m=\u001b[0m\u001b[0mweights\u001b[0m\u001b[1;33m,\u001b[0m\u001b[1;33m\u001b[0m\u001b[1;33m\u001b[0m\u001b[0m\n",
      "\u001b[1;32m~\\anaconda3\\lib\\site-packages\\matplotlib\\__init__.py\u001b[0m in \u001b[0;36minner\u001b[1;34m(ax, data, *args, **kwargs)\u001b[0m\n\u001b[0;32m   1437\u001b[0m         \u001b[1;32mif\u001b[0m \u001b[0mdata\u001b[0m \u001b[1;32mis\u001b[0m \u001b[1;32mNone\u001b[0m\u001b[1;33m:\u001b[0m\u001b[1;33m\u001b[0m\u001b[1;33m\u001b[0m\u001b[0m\n\u001b[1;32m-> 1438\u001b[1;33m             \u001b[1;32mreturn\u001b[0m \u001b[0mfunc\u001b[0m\u001b[1;33m(\u001b[0m\u001b[0max\u001b[0m\u001b[1;33m,\u001b[0m \u001b[1;33m*\u001b[0m\u001b[0mmap\u001b[0m\u001b[1;33m(\u001b[0m\u001b[0msanitize_sequence\u001b[0m\u001b[1;33m,\u001b[0m \u001b[0margs\u001b[0m\u001b[1;33m)\u001b[0m\u001b[1;33m,\u001b[0m \u001b[1;33m**\u001b[0m\u001b[0mkwargs\u001b[0m\u001b[1;33m)\u001b[0m\u001b[1;33m\u001b[0m\u001b[1;33m\u001b[0m\u001b[0m\n\u001b[0m\u001b[0;32m   1439\u001b[0m \u001b[1;33m\u001b[0m\u001b[0m\n",
      "\u001b[1;32m~\\anaconda3\\lib\\site-packages\\matplotlib\\axes\\_axes.py\u001b[0m in \u001b[0;36mhist\u001b[1;34m(self, x, bins, range, density, weights, cumulative, bottom, histtype, align, orientation, rwidth, log, color, label, stacked, **kwargs)\u001b[0m\n\u001b[0;32m   6575\u001b[0m         \u001b[1;31m# Massage 'x' for processing.\u001b[0m\u001b[1;33m\u001b[0m\u001b[1;33m\u001b[0m\u001b[1;33m\u001b[0m\u001b[0m\n\u001b[1;32m-> 6576\u001b[1;33m         \u001b[0mx\u001b[0m \u001b[1;33m=\u001b[0m \u001b[0mcbook\u001b[0m\u001b[1;33m.\u001b[0m\u001b[0m_reshape_2D\u001b[0m\u001b[1;33m(\u001b[0m\u001b[0mx\u001b[0m\u001b[1;33m,\u001b[0m \u001b[1;34m'x'\u001b[0m\u001b[1;33m)\u001b[0m\u001b[1;33m\u001b[0m\u001b[1;33m\u001b[0m\u001b[0m\n\u001b[0m\u001b[0;32m   6577\u001b[0m         \u001b[0mnx\u001b[0m \u001b[1;33m=\u001b[0m \u001b[0mlen\u001b[0m\u001b[1;33m(\u001b[0m\u001b[0mx\u001b[0m\u001b[1;33m)\u001b[0m  \u001b[1;31m# number of datasets\u001b[0m\u001b[1;33m\u001b[0m\u001b[1;33m\u001b[0m\u001b[0m\n",
      "\u001b[1;32m~\\anaconda3\\lib\\site-packages\\matplotlib\\cbook\\__init__.py\u001b[0m in \u001b[0;36m_reshape_2D\u001b[1;34m(X, name)\u001b[0m\n\u001b[0;32m   1386\u001b[0m         \u001b[0mxi\u001b[0m \u001b[1;33m=\u001b[0m \u001b[0mnp\u001b[0m\u001b[1;33m.\u001b[0m\u001b[0masanyarray\u001b[0m\u001b[1;33m(\u001b[0m\u001b[0mxi\u001b[0m\u001b[1;33m)\u001b[0m\u001b[1;33m\u001b[0m\u001b[1;33m\u001b[0m\u001b[0m\n\u001b[1;32m-> 1387\u001b[1;33m         \u001b[0mnd\u001b[0m \u001b[1;33m=\u001b[0m \u001b[0mnp\u001b[0m\u001b[1;33m.\u001b[0m\u001b[0mndim\u001b[0m\u001b[1;33m(\u001b[0m\u001b[0mxi\u001b[0m\u001b[1;33m)\u001b[0m\u001b[1;33m\u001b[0m\u001b[1;33m\u001b[0m\u001b[0m\n\u001b[0m\u001b[0;32m   1388\u001b[0m         \u001b[1;32mif\u001b[0m \u001b[0mnd\u001b[0m \u001b[1;33m>\u001b[0m \u001b[1;36m1\u001b[0m\u001b[1;33m:\u001b[0m\u001b[1;33m\u001b[0m\u001b[1;33m\u001b[0m\u001b[0m\n",
      "\u001b[1;32m<__array_function__ internals>\u001b[0m in \u001b[0;36mndim\u001b[1;34m(*args, **kwargs)\u001b[0m\n",
      "\u001b[1;31mKeyboardInterrupt\u001b[0m: ",
      "\nDuring handling of the above exception, another exception occurred:\n",
      "\u001b[1;31mAttributeError\u001b[0m                            Traceback (most recent call last)",
      "\u001b[1;32m~\\anaconda3\\lib\\site-packages\\IPython\\core\\interactiveshell.py\u001b[0m in \u001b[0;36mshowtraceback\u001b[1;34m(self, exc_tuple, filename, tb_offset, exception_only, running_compiled_code)\u001b[0m\n\u001b[0;32m   2044\u001b[0m                         \u001b[1;31m# in the engines. This should return a list of strings.\u001b[0m\u001b[1;33m\u001b[0m\u001b[1;33m\u001b[0m\u001b[1;33m\u001b[0m\u001b[0m\n\u001b[1;32m-> 2045\u001b[1;33m                         \u001b[0mstb\u001b[0m \u001b[1;33m=\u001b[0m \u001b[0mvalue\u001b[0m\u001b[1;33m.\u001b[0m\u001b[0m_render_traceback_\u001b[0m\u001b[1;33m(\u001b[0m\u001b[1;33m)\u001b[0m\u001b[1;33m\u001b[0m\u001b[1;33m\u001b[0m\u001b[0m\n\u001b[0m\u001b[0;32m   2046\u001b[0m                     \u001b[1;32mexcept\u001b[0m \u001b[0mException\u001b[0m\u001b[1;33m:\u001b[0m\u001b[1;33m\u001b[0m\u001b[1;33m\u001b[0m\u001b[0m\n",
      "\u001b[1;31mAttributeError\u001b[0m: 'KeyboardInterrupt' object has no attribute '_render_traceback_'",
      "\nDuring handling of the above exception, another exception occurred:\n",
      "\u001b[1;31mTypeError\u001b[0m                                 Traceback (most recent call last)",
      "    \u001b[1;31m[... skipping hidden 1 frame]\u001b[0m\n",
      "\u001b[1;32m~\\anaconda3\\lib\\site-packages\\IPython\\core\\interactiveshell.py\u001b[0m in \u001b[0;36mshowtraceback\u001b[1;34m(self, exc_tuple, filename, tb_offset, exception_only, running_compiled_code)\u001b[0m\n\u001b[0;32m   2045\u001b[0m                         \u001b[0mstb\u001b[0m \u001b[1;33m=\u001b[0m \u001b[0mvalue\u001b[0m\u001b[1;33m.\u001b[0m\u001b[0m_render_traceback_\u001b[0m\u001b[1;33m(\u001b[0m\u001b[1;33m)\u001b[0m\u001b[1;33m\u001b[0m\u001b[1;33m\u001b[0m\u001b[0m\n\u001b[0;32m   2046\u001b[0m                     \u001b[1;32mexcept\u001b[0m \u001b[0mException\u001b[0m\u001b[1;33m:\u001b[0m\u001b[1;33m\u001b[0m\u001b[1;33m\u001b[0m\u001b[0m\n\u001b[1;32m-> 2047\u001b[1;33m                         stb = self.InteractiveTB.structured_traceback(etype,\n\u001b[0m\u001b[0;32m   2048\u001b[0m                                             value, tb, tb_offset=tb_offset)\n\u001b[0;32m   2049\u001b[0m \u001b[1;33m\u001b[0m\u001b[0m\n",
      "\u001b[1;32m~\\anaconda3\\lib\\site-packages\\IPython\\core\\ultratb.py\u001b[0m in \u001b[0;36mstructured_traceback\u001b[1;34m(self, etype, value, tb, tb_offset, number_of_lines_of_context)\u001b[0m\n\u001b[0;32m   1434\u001b[0m         \u001b[1;32melse\u001b[0m\u001b[1;33m:\u001b[0m\u001b[1;33m\u001b[0m\u001b[1;33m\u001b[0m\u001b[0m\n\u001b[0;32m   1435\u001b[0m             \u001b[0mself\u001b[0m\u001b[1;33m.\u001b[0m\u001b[0mtb\u001b[0m \u001b[1;33m=\u001b[0m \u001b[0mtb\u001b[0m\u001b[1;33m\u001b[0m\u001b[1;33m\u001b[0m\u001b[0m\n\u001b[1;32m-> 1436\u001b[1;33m         return FormattedTB.structured_traceback(\n\u001b[0m\u001b[0;32m   1437\u001b[0m             self, etype, value, tb, tb_offset, number_of_lines_of_context)\n\u001b[0;32m   1438\u001b[0m \u001b[1;33m\u001b[0m\u001b[0m\n",
      "\u001b[1;32m~\\anaconda3\\lib\\site-packages\\IPython\\core\\ultratb.py\u001b[0m in \u001b[0;36mstructured_traceback\u001b[1;34m(self, etype, value, tb, tb_offset, number_of_lines_of_context)\u001b[0m\n\u001b[0;32m   1334\u001b[0m         \u001b[1;32mif\u001b[0m \u001b[0mmode\u001b[0m \u001b[1;32min\u001b[0m \u001b[0mself\u001b[0m\u001b[1;33m.\u001b[0m\u001b[0mverbose_modes\u001b[0m\u001b[1;33m:\u001b[0m\u001b[1;33m\u001b[0m\u001b[1;33m\u001b[0m\u001b[0m\n\u001b[0;32m   1335\u001b[0m             \u001b[1;31m# Verbose modes need a full traceback\u001b[0m\u001b[1;33m\u001b[0m\u001b[1;33m\u001b[0m\u001b[1;33m\u001b[0m\u001b[0m\n\u001b[1;32m-> 1336\u001b[1;33m             return VerboseTB.structured_traceback(\n\u001b[0m\u001b[0;32m   1337\u001b[0m                 \u001b[0mself\u001b[0m\u001b[1;33m,\u001b[0m \u001b[0metype\u001b[0m\u001b[1;33m,\u001b[0m \u001b[0mvalue\u001b[0m\u001b[1;33m,\u001b[0m \u001b[0mtb\u001b[0m\u001b[1;33m,\u001b[0m \u001b[0mtb_offset\u001b[0m\u001b[1;33m,\u001b[0m \u001b[0mnumber_of_lines_of_context\u001b[0m\u001b[1;33m\u001b[0m\u001b[1;33m\u001b[0m\u001b[0m\n\u001b[0;32m   1338\u001b[0m             )\n",
      "\u001b[1;32m~\\anaconda3\\lib\\site-packages\\IPython\\core\\ultratb.py\u001b[0m in \u001b[0;36mstructured_traceback\u001b[1;34m(self, etype, evalue, etb, tb_offset, number_of_lines_of_context)\u001b[0m\n\u001b[0;32m   1191\u001b[0m         \u001b[1;34m\"\"\"Return a nice text document describing the traceback.\"\"\"\u001b[0m\u001b[1;33m\u001b[0m\u001b[1;33m\u001b[0m\u001b[0m\n\u001b[0;32m   1192\u001b[0m \u001b[1;33m\u001b[0m\u001b[0m\n\u001b[1;32m-> 1193\u001b[1;33m         formatted_exception = self.format_exception_as_a_whole(etype, evalue, etb, number_of_lines_of_context,\n\u001b[0m\u001b[0;32m   1194\u001b[0m                                                                tb_offset)\n\u001b[0;32m   1195\u001b[0m \u001b[1;33m\u001b[0m\u001b[0m\n",
      "\u001b[1;32m~\\anaconda3\\lib\\site-packages\\IPython\\core\\ultratb.py\u001b[0m in \u001b[0;36mformat_exception_as_a_whole\u001b[1;34m(self, etype, evalue, etb, number_of_lines_of_context, tb_offset)\u001b[0m\n\u001b[0;32m   1149\u001b[0m \u001b[1;33m\u001b[0m\u001b[0m\n\u001b[0;32m   1150\u001b[0m \u001b[1;33m\u001b[0m\u001b[0m\n\u001b[1;32m-> 1151\u001b[1;33m         \u001b[0mlast_unique\u001b[0m\u001b[1;33m,\u001b[0m \u001b[0mrecursion_repeat\u001b[0m \u001b[1;33m=\u001b[0m \u001b[0mfind_recursion\u001b[0m\u001b[1;33m(\u001b[0m\u001b[0morig_etype\u001b[0m\u001b[1;33m,\u001b[0m \u001b[0mevalue\u001b[0m\u001b[1;33m,\u001b[0m \u001b[0mrecords\u001b[0m\u001b[1;33m)\u001b[0m\u001b[1;33m\u001b[0m\u001b[1;33m\u001b[0m\u001b[0m\n\u001b[0m\u001b[0;32m   1152\u001b[0m \u001b[1;33m\u001b[0m\u001b[0m\n\u001b[0;32m   1153\u001b[0m         \u001b[0mframes\u001b[0m \u001b[1;33m=\u001b[0m \u001b[0mself\u001b[0m\u001b[1;33m.\u001b[0m\u001b[0mformat_records\u001b[0m\u001b[1;33m(\u001b[0m\u001b[0mrecords\u001b[0m\u001b[1;33m,\u001b[0m \u001b[0mlast_unique\u001b[0m\u001b[1;33m,\u001b[0m \u001b[0mrecursion_repeat\u001b[0m\u001b[1;33m)\u001b[0m\u001b[1;33m\u001b[0m\u001b[1;33m\u001b[0m\u001b[0m\n",
      "\u001b[1;32m~\\anaconda3\\lib\\site-packages\\IPython\\core\\ultratb.py\u001b[0m in \u001b[0;36mfind_recursion\u001b[1;34m(etype, value, records)\u001b[0m\n\u001b[0;32m    449\u001b[0m     \u001b[1;31m# first frame (from in to out) that looks different.\u001b[0m\u001b[1;33m\u001b[0m\u001b[1;33m\u001b[0m\u001b[1;33m\u001b[0m\u001b[0m\n\u001b[0;32m    450\u001b[0m     \u001b[1;32mif\u001b[0m \u001b[1;32mnot\u001b[0m \u001b[0mis_recursion_error\u001b[0m\u001b[1;33m(\u001b[0m\u001b[0metype\u001b[0m\u001b[1;33m,\u001b[0m \u001b[0mvalue\u001b[0m\u001b[1;33m,\u001b[0m \u001b[0mrecords\u001b[0m\u001b[1;33m)\u001b[0m\u001b[1;33m:\u001b[0m\u001b[1;33m\u001b[0m\u001b[1;33m\u001b[0m\u001b[0m\n\u001b[1;32m--> 451\u001b[1;33m         \u001b[1;32mreturn\u001b[0m \u001b[0mlen\u001b[0m\u001b[1;33m(\u001b[0m\u001b[0mrecords\u001b[0m\u001b[1;33m)\u001b[0m\u001b[1;33m,\u001b[0m \u001b[1;36m0\u001b[0m\u001b[1;33m\u001b[0m\u001b[1;33m\u001b[0m\u001b[0m\n\u001b[0m\u001b[0;32m    452\u001b[0m \u001b[1;33m\u001b[0m\u001b[0m\n\u001b[0;32m    453\u001b[0m     \u001b[1;31m# Select filename, lineno, func_name to track frames with\u001b[0m\u001b[1;33m\u001b[0m\u001b[1;33m\u001b[0m\u001b[1;33m\u001b[0m\u001b[0m\n",
      "\u001b[1;31mTypeError\u001b[0m: object of type 'NoneType' has no len()"
     ]
    },
    {
     "data": {
      "image/png": "[encoded data removed]",
      "text/plain": [
       "<Figure size 432x288 with 1 Axes>"
      ]
     },
     "metadata": {
      "needs_background": "light"
     },
     "output_type": "display_data"
    }
   ],
   "source": [
    "# 모두의 데이터분석 with 파이썬 Unit13\n",
    "'''\n",
    "성능 테스트 - Pure Python\n",
    "'''\n",
    "\n",
    "import matplotlib.pyplot as plt\n",
    "import random\n",
    "import time\n",
    "\n",
    "start = time.time()\n",
    "\n",
    "dice = []\n",
    "for i in range(1000000):\n",
    "    dice.append(random.randint(1, 6))\n",
    "\n",
    "end = time.time()\n",
    "print(end - start)\n",
    "\n",
    "plt.hist(dice, bins=6)\n",
    "plt.show()"
   ]
  },
  {
   "cell_type": "markdown",
   "metadata": {},
   "source": [
    "#### Pandas 의 자료 구조\n",
    "```\n",
    "Series: 1차원 데이터(표의 한 행 또는 한 열 데이터)\n",
    "DataFrame: 2차원 데이터(행과 열로 구성된 데이터)\n",
    "```"
   ]
  },
  {
   "cell_type": "markdown",
   "metadata": {},
   "source": [
    "## Series"
   ]
  },
  {
   "cell_type": "code",
   "execution_count": 12,
   "metadata": {},
   "outputs": [
    {
     "name": "stdout",
     "output_type": "stream",
     "text": [
      "0    1\n",
      "1    2\n",
      "2    3\n",
      "dtype: int64\n",
      "\n",
      "0    10\n",
      "1    20\n",
      "2    30\n",
      "dtype: int64\n"
     ]
    }
   ],
   "source": [
    "# 03/01.py\n",
    "'''\n",
    "Series 객체 생성\n",
    "'''\n",
    "\n",
    "from pandas import Series\n",
    "\n",
    "data = [1, 2, 3]\n",
    "s = Series(data)\n",
    "print(s)\n",
    "print()     # 한 줄 띄우기 위한 출력\n",
    "print(s * 10)"
   ]
  },
  {
   "cell_type": "markdown",
   "metadata": {},
   "source": [
    "**List 대신 Series를 사용하는 이유**\n",
    "1. 각 요소의 연산이 편리함\n",
    "2. 연산 속도가 빠름"
   ]
  },
  {
   "cell_type": "code",
   "execution_count": 14,
   "metadata": {},
   "outputs": [
    {
     "name": "stdout",
     "output_type": "stream",
     "text": [
      "메로나     1000\n",
      "구구콘     2000\n",
      "하겐다즈    3000\n",
      "dtype: int64\n"
     ]
    }
   ],
   "source": [
    "# 03/02.py\n",
    "'''\n",
    "인덱스에 레이블 붙이기\n",
    "'''\n",
    "\n",
    "from pandas import Series\n",
    "\n",
    "data = [1000, 2000, 3000]\n",
    "index = [\"메로나\", \"구구콘\", \"하겐다즈\"]\n",
    "\n",
    "s = Series(data=data, index=index)\n",
    "print(s)"
   ]
  },
  {
   "cell_type": "markdown",
   "metadata": {},
   "source": [
    "**시리즈 객체의 구조**\n",
    "\n",
    "|행 번호|인덱스|데이터|\n",
    "|-------|------|------|\n",
    "|0|'메로나'|1000|\n",
    "|1|'구구콘'|2000|\n",
    "|2|'하겐다즈'|3000|"
   ]
  },
  {
   "cell_type": "markdown",
   "metadata": {},
   "source": [
    "- 행 번호로 인덱싱: iloc 속성을 사용  \n",
    "- 인덱스로 인덱싱: loc 속성을 사용"
   ]
  },
  {
   "cell_type": "markdown",
   "metadata": {},
   "source": [
    "|행 번호|인덱스|데이터|\n",
    "|-------|------|------|\n",
    "|0|0|1000|\n",
    "|1|1|2000|\n",
    "|2|2|3000|\n",
    "\n",
    "시리즈 객체는 인덱스를 지정하지 않으면,  \n",
    "자동으로 생성된 정수 인덱스(RangeIndex 타입)를 갖습니다."
   ]
  },
  {
   "cell_type": "code",
   "execution_count": 15,
   "metadata": {},
   "outputs": [
    {
     "name": "stdout",
     "output_type": "stream",
     "text": [
      "1000\n",
      "2000\n",
      "3000\n",
      "3000\n"
     ]
    }
   ],
   "source": [
    "# 03/04.py\n",
    "'''\n",
    "시리즈 객체를 생성할 때 인덱스를 지정하지 않은 경우\n",
    "(자동으로 정수 인덱스가 지정됨)\n",
    "'''\n",
    "\n",
    "from pandas import Series\n",
    "\n",
    "data = [1000, 2000, 3000]\n",
    "s = Series(data=data)\n",
    "\n",
    "print(s.iloc[0])\n",
    "print(s.iloc[1])\n",
    "print(s.iloc[2])\n",
    "print(s.iloc[-1])"
   ]
  },
  {
   "cell_type": "code",
   "execution_count": 1,
   "metadata": {
    "scrolled": true
   },
   "outputs": [
    {
     "ename": "NameError",
     "evalue": "name 's' is not defined",
     "output_type": "error",
     "traceback": [
      "\u001b[1;31m---------------------------------------------------------------------------\u001b[0m",
      "\u001b[1;31mNameError\u001b[0m                                 Traceback (most recent call last)",
      "\u001b[1;32m<ipython-input-1-a089f191695f>\u001b[0m in \u001b[0;36m<module>\u001b[1;34m\u001b[0m\n\u001b[0;32m      1\u001b[0m \u001b[1;31m# 03/05.py\u001b[0m\u001b[1;33m\u001b[0m\u001b[1;33m\u001b[0m\u001b[1;33m\u001b[0m\u001b[0m\n\u001b[1;32m----> 2\u001b[1;33m \u001b[0mprint\u001b[0m\u001b[1;33m(\u001b[0m\u001b[0ms\u001b[0m\u001b[1;33m.\u001b[0m\u001b[0mloc\u001b[0m\u001b[1;33m[\u001b[0m\u001b[1;36m0\u001b[0m\u001b[1;33m]\u001b[0m\u001b[1;33m)\u001b[0m\u001b[1;33m\u001b[0m\u001b[1;33m\u001b[0m\u001b[0m\n\u001b[0m\u001b[0;32m      3\u001b[0m \u001b[0mprint\u001b[0m\u001b[1;33m(\u001b[0m\u001b[0ms\u001b[0m\u001b[1;33m.\u001b[0m\u001b[0mloc\u001b[0m\u001b[1;33m[\u001b[0m\u001b[1;36m1\u001b[0m\u001b[1;33m]\u001b[0m\u001b[1;33m)\u001b[0m\u001b[1;33m\u001b[0m\u001b[1;33m\u001b[0m\u001b[0m\n\u001b[0;32m      4\u001b[0m \u001b[0mprint\u001b[0m\u001b[1;33m(\u001b[0m\u001b[0ms\u001b[0m\u001b[1;33m.\u001b[0m\u001b[0mloc\u001b[0m\u001b[1;33m[\u001b[0m\u001b[1;36m2\u001b[0m\u001b[1;33m]\u001b[0m\u001b[1;33m)\u001b[0m\u001b[1;33m\u001b[0m\u001b[1;33m\u001b[0m\u001b[0m\n\u001b[0;32m      5\u001b[0m \u001b[0mprint\u001b[0m\u001b[1;33m(\u001b[0m\u001b[0ms\u001b[0m\u001b[1;33m.\u001b[0m\u001b[0mloc\u001b[0m\u001b[1;33m[\u001b[0m\u001b[1;33m-\u001b[0m\u001b[1;36m1\u001b[0m\u001b[1;33m]\u001b[0m\u001b[1;33m)\u001b[0m    \u001b[1;31m# 오류 발생(loc 속성은 인덱스를 사용해서 인덱싱하므로 인덱스가 아닌 값으로 인덱싱 불가)\u001b[0m\u001b[1;33m\u001b[0m\u001b[1;33m\u001b[0m\u001b[0m\n",
      "\u001b[1;31mNameError\u001b[0m: name 's' is not defined"
     ]
    }
   ],
   "source": [
    "# 03/05.py\n",
    "print(s.loc[0])\n",
    "print(s.loc[1])\n",
    "print(s.loc[2])\n",
    "print(s.loc[-1])    # 오류 발생(loc 속성은 인덱스를 사용해서 인덱싱하므로 인덱스가 아닌 값으로 인덱싱 불가)"
   ]
  },
  {
   "cell_type": "code",
   "execution_count": 24,
   "metadata": {},
   "outputs": [
    {
     "name": "stdout",
     "output_type": "stream",
     "text": [
      "메로나     1000\n",
      "구구콘     2000\n",
      "하겐다즈    3000\n",
      "dtype: int64\n",
      "\n",
      "메로나      500\n",
      "구구콘     2000\n",
      "하겐다즈    3000\n",
      "dtype: int64\n",
      "\n",
      "메로나      500\n",
      "구구콘     2000\n",
      "하겐다즈    3000\n",
      "dtype: int64\n",
      "메로나      500\n",
      "구구콘     2000\n",
      "하겐다즈    3000\n",
      "dtype: int64\n",
      "메로나      500\n",
      "구구콘     2000\n",
      "하겐다즈    3000\n",
      "비비빅      500\n",
      "dtype: int64\n"
     ]
    }
   ],
   "source": [
    "'''시리즈 값 수정'''\n",
    "from pandas import Series\n",
    "dadata = [1000, 2000, 3000]\n",
    "index = [\"메로나\", \"구구콘\", \"하겐다즈\"]\n",
    "s = Series(data=data, index=index)\n",
    "\n",
    "print(s) # 원본 데이터\n",
    "print()\n",
    "\n",
    "s.loc['메로나'] = 500 # loc 속성 사용\n",
    "print(s)\n",
    "print()\n",
    "\n",
    "s.iloc[0] = 500 # iloc 속성 사용\n",
    "print(s)\n",
    "# print()\n",
    "\n",
    "s['메로나'] = 500 #대괄호 표기법 사용\n",
    "print(s)\n",
    "\n",
    "s.loc['비비빅'] = 500 # 값 추가\n",
    "print(s)"
   ]
  },
  {
   "cell_type": "code",
   "execution_count": 30,
   "metadata": {},
   "outputs": [
    {
     "name": "stdout",
     "output_type": "stream",
     "text": [
      "구구콘     2000\n",
      "하겐다즈    3000\n",
      "dtype: int64\n",
      "메로나     1000\n",
      "구구콘     2000\n",
      "하겐다즈    3000\n",
      "dtype: int64\n",
      "=======\n",
      "구구콘     2000\n",
      "하겐다즈    3000\n",
      "dtype: int64\n"
     ]
    }
   ],
   "source": [
    "'''시리즈 값 삭제'''\n",
    "from pandas import Series\n",
    "dadata = [1000, 2000, 3000]\n",
    "index = [\"메로나\", \"구구콘\", \"하겐다즈\"]\n",
    "s = Series(data=data, index=index)\n",
    "\n",
    "print(s.drop('메로나')) # drop은 원본 데이터에 영향을 주지않음\n",
    "a = s.drop('메로나') # 행 번호로는 삭제 불가(실수 방지를 위한 안전장치)\n",
    "# b = s.drop(0)\n",
    "print(s)\n",
    "print(\"=======\")\n",
    "print(a)"
   ]
  },
  {
   "cell_type": "code",
   "execution_count": 32,
   "metadata": {},
   "outputs": [
    {
     "name": "stdout",
     "output_type": "stream",
     "text": [
      "Naver    10\n",
      "Skt      20\n",
      "Kt       30\n",
      "dtype: int64\n",
      "=======\n",
      "Skt      10\n",
      "Kt       30\n",
      "Naver    20\n",
      "dtype: int64\n",
      "=======\n",
      "Kt       60\n",
      "Naver    30\n",
      "Skt      30\n",
      "dtype: int64\n"
     ]
    }
   ],
   "source": [
    "'''같은 인덱스를 갖는 모든 데이터에 연산을 적용\n",
    "(인덱스 순서가 달라도 짝지어 연산)'''\n",
    "\n",
    "from pandas import Series\n",
    "\n",
    "mine = Series([10,20,30], index= ['Naver',\"Skt\",\"Kt\"])\n",
    "wife = Series([10,30,20], index= ['Skt',\"Kt\",\"Naver\"])\n",
    "tot = mine + wife\n",
    "print(mine)\n",
    "print(\"=======\")\n",
    "print(wife)\n",
    "print(\"=======\")\n",
    "print(tot)"
   ]
  },
  {
   "cell_type": "code",
   "execution_count": 33,
   "metadata": {},
   "outputs": [
    {
     "name": "stdout",
     "output_type": "stream",
     "text": [
      "Naver    100\n",
      "Skt      200\n",
      "Kt       300\n",
      "dtype: int64\n"
     ]
    }
   ],
   "source": [
    "'''\n",
    "반복문을 사용하지 않고 모든 데이터에 같은 연산이 가능\n",
    "시리즈와 숫자의 연산\n",
    "'''\n",
    "\n",
    "from pandas import Series\n",
    "\n",
    "data1 = Series([10,20,30], index= ['Naver',\"Skt\",\"Kt\"])\n",
    "data2 = data1 * 10\n",
    "print(data2)"
   ]
  },
  {
   "cell_type": "code",
   "execution_count": 36,
   "metadata": {
    "scrolled": true
   },
   "outputs": [
    {
     "name": "stdout",
     "output_type": "stream",
     "text": [
      "0    10700\n",
      "1    29500\n",
      "2     2000\n",
      "3    23000\n",
      "4     7700\n",
      "dtype: int64\n"
     ]
    }
   ],
   "source": [
    "'''\n",
    "변동폭 = 고가 - 저가\n",
    "시리즈와 시리즈의 연산\n",
    "'''\n",
    "from pandas import Series\n",
    "\n",
    "high = Series([42800,42700,42100,48600,18900])\n",
    "low = Series([32100,13200,40100,25600,11200])\n",
    "\n",
    "diff = high - low\n",
    "print(diff)"
   ]
  },
  {
   "cell_type": "code",
   "execution_count": 49,
   "metadata": {},
   "outputs": [
    {
     "name": "stdout",
     "output_type": "stream",
     "text": [
      "29500\n",
      "29500\n"
     ]
    }
   ],
   "source": [
    "'''\n",
    "변동폭 최대값 구하기\n",
    "'''\n",
    "from pandas import Series\n",
    "\n",
    "high = Series([42800,42700,42100,48600,18900])\n",
    "low = Series([32100,13200,40100,25600,11200])\n",
    "\n",
    "diff = high - low\n",
    "print(diff.max())  # 시리즈 객체의 메서드\n",
    "print(max(diff))  # 파이썬 내장함수"
   ]
  },
  {
   "cell_type": "code",
   "execution_count": 39,
   "metadata": {},
   "outputs": [
    {
     "name": "stdout",
     "output_type": "stream",
     "text": [
      "2019-05-31     True\n",
      "2019-05-30     True\n",
      "2019-05-28    False\n",
      "2019-05-21     True\n",
      "2019-05-27    False\n",
      "dtype: bool\n"
     ]
    }
   ],
   "source": [
    "'''시리즈의 각 데이터에 대해 비교 연산 후 불리언 값 반환'''\n",
    "\n",
    "from pandas import Series\n",
    "\n",
    "data =[42800,42550,41800,42650,18900]\n",
    "index = ['2019-05-31','2019-05-30','2019-05-28','2019-05-21','2019-05-27']\n",
    "s = Series(data = data, index = index)\n",
    "cond = s >42000\n",
    "print(cond)"
   ]
  },
  {
   "cell_type": "code",
   "execution_count": 40,
   "metadata": {},
   "outputs": [
    {
     "name": "stdout",
     "output_type": "stream",
     "text": [
      "2019-05-31    42800\n",
      "2019-05-30    42550\n",
      "2019-05-21    42650\n",
      "dtype: int64\n"
     ]
    }
   ],
   "source": [
    "from pandas import Series\n",
    "\n",
    "data =[42800,42550,41800,42650,18900]\n",
    "index = ['2019-05-31','2019-05-30','2019-05-28','2019-05-21','2019-05-27']\n",
    "s = Series(data = data, index = index)\n",
    "cond = s >42000\n",
    "print(s[cond]) # 조건이 True인 값만 선택"
   ]
  },
  {
   "attachments": {
    "image-2.png": {
     "image/png": "[encoded data removed]"
    }
   },
   "cell_type": "markdown",
   "metadata": {},
   "source": [
    "![image-2.png](attachment:image-2.png)"
   ]
  },
  {
   "cell_type": "code",
   "execution_count": 42,
   "metadata": {},
   "outputs": [
    {
     "name": "stdout",
     "output_type": "stream",
     "text": [
      "2019-05-31    False\n",
      "2019-05-30     True\n",
      "2019-05-29    False\n",
      "2019-05-28    False\n",
      "2019-05-27     True\n",
      "dtype: bool\n"
     ]
    }
   ],
   "source": [
    "'''\n",
    "시가와 종가를 시리즈 객체로 생성후,\n",
    "종가가 시가보다 큰지 판단\n",
    "'''\n",
    "from pandas import Series\n",
    "\n",
    "close = [42500, 42550, 41800, 42550, 42650]\n",
    "open = [42600, 42200, 41850, 42550, 42500]\n",
    "index = ['2019-05-31', '2019-05-30', '2019-05-29', '2019-05-28', '2019-05-27']\n",
    "\n",
    "open = Series(data=open, index=index)\n",
    "close = Series(data=close, index=index)\n",
    "\n",
    "cond = close>open\n",
    "print(cond)"
   ]
  },
  {
   "cell_type": "code",
   "execution_count": 48,
   "metadata": {},
   "outputs": [
    {
     "name": "stdout",
     "output_type": "stream",
     "text": [
      "2019-05-31    False\n",
      "2019-05-30     True\n",
      "2019-05-29    False\n",
      "2019-05-28    False\n",
      "2019-05-27     True\n",
      "dtype: bool\n",
      "========================================\n",
      "2019-05-30    42550\n",
      "2019-05-27    42650\n",
      "dtype: int64\n",
      "========================================\n",
      "2019-05-30    42200\n",
      "2019-05-27    42500\n",
      "dtype: int64\n"
     ]
    }
   ],
   "source": [
    "'''\n",
    "시가와 종가를 시리즈 객체로 생성후,\n",
    "종가가 시가보다 큰지 판단\n",
    "'''\n",
    "from pandas import Series\n",
    "\n",
    "close = [42500, 42550, 41800, 42550, 42650]\n",
    "open = [42600, 42200, 41850, 42550, 42500]\n",
    "index = ['2019-05-31', '2019-05-30', '2019-05-29', '2019-05-28', '2019-05-27']\n",
    "\n",
    "open = Series(data=open, index=index)\n",
    "close = Series(data=close, index=index)\n",
    "\n",
    "cond = close>open\n",
    "print(cond)\n",
    "print(\"====\"*10)\n",
    "print(close[cond])\n",
    "print(\"====\"*10)\n",
    "print(open[cond])\n"
   ]
  },
  {
   "cell_type": "code",
   "execution_count": 50,
   "metadata": {},
   "outputs": [
    {
     "name": "stdout",
     "output_type": "stream",
     "text": [
      "2019-05-30    350\n",
      "2019-05-27    150\n",
      "dtype: int64\n"
     ]
    }
   ],
   "source": [
    "'''\n",
    "시가와 종가의 변동폭 출력\n",
    "'''\n",
    "\n",
    "from pandas import Series\n",
    "\n",
    "close = [42500, 42550, 41800, 42550, 42650]\n",
    "open = [42600, 42200, 41850, 42550, 42500]\n",
    "index = ['2019-05-31', '2019-05-30', '2019-05-29', '2019-05-28', '2019-05-27']\n",
    "\n",
    "open = Series(data=open, index=index)\n",
    "close = Series(data=close, index=index)\n",
    "diff = close - open\n",
    "\n",
    "cond = close > open\n",
    "print(diff[cond])"
   ]
  },
  {
   "cell_type": "code",
   "execution_count": 52,
   "metadata": {},
   "outputs": [
    {
     "name": "stdout",
     "output_type": "stream",
     "text": [
      "000010     3.1\n",
      "000020     2.0\n",
      "000030    10.1\n",
      "000040     5.1\n",
      "dtype: float64\n",
      "========================================\n",
      "000020     2.0\n",
      "000010     3.1\n",
      "000040     5.1\n",
      "000030    10.1\n",
      "dtype: float64\n",
      "========================================\n",
      "000030    10.1\n",
      "000040     5.1\n",
      "000010     3.1\n",
      "000020     2.0\n",
      "dtype: float64\n"
     ]
    }
   ],
   "source": [
    "'''\n",
    "오름차순, 내림차순 정렬\n",
    "'''\n",
    "from pandas import Series\n",
    "\n",
    "data = [3.1, 2.0, 10.1, 5.1]\n",
    "index = ['000010', '000020', '000030', '000040']\n",
    "s = Series(data=data, index=index)\n",
    "print(s)\n",
    "print(\"====\"*10)\n",
    "# 오름차순 정렬\n",
    "s1 = s.sort_values()\n",
    "print(s1)\n",
    "print(\"====\"*10)\n",
    "\n",
    "s2 = s.sort_values(ascending=False)\n",
    "print(s2)"
   ]
  },
  {
   "cell_type": "code",
   "execution_count": 53,
   "metadata": {},
   "outputs": [
    {
     "name": "stdout",
     "output_type": "stream",
     "text": [
      "000010     3.1\n",
      "000020     2.0\n",
      "000030    10.1\n",
      "000040     5.1\n",
      "dtype: float64\n",
      "========================================\n",
      "000010    2.0\n",
      "000020    1.0\n",
      "000030    4.0\n",
      "000040    3.0\n",
      "dtype: float64\n",
      "========================================\n",
      "000010    3.0\n",
      "000020    4.0\n",
      "000030    1.0\n",
      "000040    2.0\n",
      "dtype: float64\n"
     ]
    }
   ],
   "source": [
    "'''\n",
    "순위\n",
    "'''\n",
    "\n",
    "from pandas import Series\n",
    "\n",
    "data = [3.1, 2.0, 10.1, 5.1]\n",
    "index = ['000010', '000020', '000030', '000040']\n",
    "s= Series(data = data, index = index)\n",
    "print(s) # 원본 데이터\n",
    "print(\"====\"*10)\n",
    "print(s.rank()) # 작은 값이 1위\n",
    "print(\"====\"*10)\n",
    "print(s.rank(ascending = False)) # 큰 값이 1위"
   ]
  },
  {
   "cell_type": "code",
   "execution_count": 54,
   "metadata": {},
   "outputs": [],
   "source": [
    "'''\n",
    "엑셀 파일로 저장하기\n",
    "'''\n",
    "from pandas import Series\n",
    "data =  [1000, 2000, 3000]\n",
    "index = [\"메로나\", \"구구콘\", \"하겐다즈\"]\n",
    "s = Series(data = data, index = index)\n",
    "# to_excel 메서드를 사용\n",
    "\n",
    "s.to_excel(\"data.xlsx\")"
   ]
  },
  {
   "cell_type": "code",
   "execution_count": 76,
   "metadata": {},
   "outputs": [
    {
     "name": "stdout",
     "output_type": "stream",
     "text": [
      " A000010     3.1\n",
      " A000020     2.0\n",
      " A000030    10.1\n",
      " A000040     5.1\n",
      "dtype: float64\n"
     ]
    }
   ],
   "source": [
    "'''\n",
    "시리즈 인덱스 수정하기\n",
    "'''\n",
    "from pandas import Series\n",
    "data = [3.1, 2.0, 10.1, 5.1]\n",
    "index = ['000010', '000020', '000030', '000040']\n",
    "s = Series(data = data, index = index)\n",
    "indexs = \" A\" + s.index  #index에 'A'추가\n",
    "s.index = indexs # indexs에 data추가\n",
    "print(s)\n"
   ]
  },
  {
   "cell_type": "code",
   "execution_count": 6,
   "metadata": {},
   "outputs": [
    {
     "name": "stdout",
     "output_type": "stream",
     "text": [
      "000010     3.1\n",
      "000020     2.0\n",
      "000030    10.1\n",
      "000040     5.1\n",
      "dtype: float64\n",
      "========================================\n",
      "Index(['000010', '000020', '000030', '000040'], dtype='object')\n",
      "========================================\n",
      "A000010B     3.1\n",
      "A000020B     2.0\n",
      "A000030B    10.1\n",
      "A000040B     5.1\n",
      "dtype: float64\n",
      "========================================\n",
      "A     3.1\n",
      "B     2.0\n",
      "C    10.1\n",
      "D     5.1\n",
      "dtype: float64\n"
     ]
    }
   ],
   "source": [
    "'''\n",
    "시리즈 인덱스 수정\n",
    "'''\n",
    "\n",
    "from pandas import Series\n",
    "\n",
    "data = [3.1, 2.0, 10.1, 5.1]\n",
    "index = ['000010', '000020', '000030', '000040']\n",
    "s = Series(data = data, index = index)\n",
    "print(s)\n",
    "print(\"====\"*10)\n",
    "print(s.index) # pandas object는 문자열\n",
    "s.index = 'A' + s.index + \"B\"\n",
    "print(\"====\"*10)\n",
    "print(s)\n",
    "print(\"====\"*10)\n",
    "s.index = ['A','B',\"C\",'D']\n",
    "print(s)\n"
   ]
  },
  {
   "cell_type": "code",
   "execution_count": null,
   "metadata": {},
   "outputs": [],
   "source": []
  }
 ],
 "metadata": {
  "kernelspec": {
   "display_name": "Python 3",
   "language": "python",
   "name": "python3"
  },
  "language_info": {
   "codemirror_mode": {
    "name": "ipython",
    "version": 3
   },
   "file_extension": ".py",
   "mimetype": "text/x-python",
   "name": "python",
   "nbconvert_exporter": "python",
   "pygments_lexer": "ipython3",
   "version": "3.8.5"
  }
 },
 "nbformat": 4,
 "nbformat_minor": 4
}
