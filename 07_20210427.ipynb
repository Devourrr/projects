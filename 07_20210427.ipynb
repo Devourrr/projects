{
 "cells": [
  {
   "cell_type": "markdown",
   "metadata": {},
   "source": [
    "# NCS 전공평가- 빅데이터 수집시스템 개발"
   ]
  },
  {
   "cell_type": "code",
   "execution_count": 1,
   "metadata": {},
   "outputs": [
    {
     "name": "stdout",
     "output_type": "stream",
     "text": [
      "<Response [200]>\n",
      "운동 단위(회/분):회\n",
      "<금주의 운동 칼로리 검색 순위 TOP>\n",
      "1. - 만보걷기 1 10000(회) 334 kcal\n",
      "2. ▼ 스쿼트 1 30(회) 7.2 kcal\n",
      "3. ▲ 와이드 스쿼트 1 30(회) 13.2 kcal\n",
      "4. ▼ 레그레이즈 1 5(회) 2.35 kcal\n",
      "5. ▼ 크런치 1 20(회) 6 kcal\n",
      "6. - 슬로우버피 1 20(회) 60 kcal\n",
      "7. ▲ 윗몸일으키기(세트) 1 15(회) 10.5 kcal\n"
     ]
    }
   ],
   "source": [
    "import requests\n",
    "from bs4 import BeautifulSoup\n",
    "\n",
    "url ='https://www.dietshin.com/calorie/sports_main.asp'\n",
    "res =requests.get(url)\n",
    "print(res)\n",
    "\n",
    "bs =BeautifulSoup(res.text,'html.parser')\n",
    "tbody=bs.select_one('tbody')\n",
    "tr= tbody.select('tr')\n",
    "\n",
    "d=input(\"운동 단위(회/분):\")\n",
    "print('<금주의 운동 칼로리 검색 순위 TOP>')\n",
    "b=0\n",
    "for i in tr :\n",
    "    초= i.select_one('td:nth-child(5)')\n",
    "    a=초.get_text()[-2]\n",
    "    if a==f'{d}':\n",
    "        b+=1    \n",
    "        순위= b\n",
    "        순위변동=\"\"\n",
    "        c=i.select_one('td:nth-child(2) > img')['alt']\n",
    "        if c=='동등':\n",
    "            순위변동 ='-'\n",
    "        elif c=='상승':\n",
    "            순위변동='▲'\n",
    "        elif c=='하락':\n",
    "            순위변동='▼'\n",
    "        강도=i.select_one(' td:nth-child(4)').get_text()\n",
    "        이름= i.select_one('td.subject > a').get_text()\n",
    "        칼로리= i.select_one('td:nth-child(6)').get_text() \n",
    "        시간 =i.select_one('td:nth-child(5)').get_text() \n",
    "        print(f\"{순위}.\",순위변동,이름,강도,시간,칼로리 )\n"
   ]
  },
  {
   "cell_type": "code",
   "execution_count": null,
   "metadata": {},
   "outputs": [],
   "source": []
  }
 ],
 "metadata": {
  "kernelspec": {
   "display_name": "Python 3",
   "language": "python",
   "name": "python3"
  },
  "language_info": {
   "codemirror_mode": {
    "name": "ipython",
    "version": 3
   },
   "file_extension": ".py",
   "mimetype": "text/x-python",
   "name": "python",
   "nbconvert_exporter": "python",
   "pygments_lexer": "ipython3",
   "version": "3.8.5"
  }
 },
 "nbformat": 4,
 "nbformat_minor": 4
}
